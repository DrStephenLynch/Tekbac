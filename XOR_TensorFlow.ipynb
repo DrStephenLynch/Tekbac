{
  "nbformat": 4,
  "nbformat_minor": 0,
  "metadata": {
    "colab": {
      "name": "XOR TensorFlow.ipynb",
      "provenance": [],
      "include_colab_link": true
    },
    "kernelspec": {
      "name": "python3",
      "display_name": "Python 3"
    }
  },
  "cells": [
    {
      "cell_type": "markdown",
      "metadata": {
        "id": "view-in-github",
        "colab_type": "text"
      },
      "source": [
        "<a href=\"https://colab.research.google.com/github/proflynch/Tekbac/blob/master/XOR_TensorFlow.ipynb\" target=\"_parent\"><img src=\"https://colab.research.google.com/assets/colab-badge.svg\" alt=\"Open In Colab\"/></a>"
      ]
    },
    {
      "cell_type": "markdown",
      "metadata": {
        "id": "WN1hLRP7bzAq",
        "colab_type": "text"
      },
      "source": [
        "XOR IMPLEMENTATION WITH HIDDEN LAYERS USING TENSORFLOW"
      ]
    },
    {
      "cell_type": "code",
      "metadata": {
        "id": "9HTmFMclbxeS",
        "colab_type": "code",
        "colab": {
          "base_uri": "https://localhost:8080/",
          "height": 844
        },
        "outputId": "ab2d180c-4183-4030-d98f-e205ec031365"
      },
      "source": [
        "import tensorflow as tf\n",
        "\n",
        "x_ = tf.placeholder(tf.float32, shape=[4,2], name = \"x-input\")\n",
        "y_ = tf.placeholder(tf.float32, shape=[4,1], name = \"y-input\")\n",
        "w1 = tf.Variable(tf.random_uniform([2,2], -1, 1), name = \"Weights1\")\n",
        "w2 = tf.Variable(tf.random_uniform([2,1], -1, 1), name = \"Weights2\")\n",
        "b1 = tf.Variable(tf.zeros([2]), name = \"Bias1\")\n",
        "b2 = tf.Variable(tf.zeros([1]), name = \"Bias2\")\n",
        "z2 = tf.sigmoid(tf.matmul(x_, w1) + b1)\n",
        "pred = tf.sigmoid(tf.matmul(z2, w2) + b2)\n",
        "\n",
        "cost = tf.reduce_mean(((y_ * tf.log(pred))+((1 - y_) * tf.log(1.0 - pred))) * -1)\n",
        "learning_rate = 0.01\n",
        "training_epochs = 100000\n",
        "train_step = tf.train.GradientDescentOptimizer(learning_rate).minimize(cost)\n",
        "XOR_X = [[0,0],[0,1],[1,0],[1,1]]\n",
        "XOR_Y = [[0],[1],[1],[0]]\n",
        "init = tf.global_variables_initializer()\n",
        "sess = tf.Session()\n",
        "sess.run(init)\n",
        "\n",
        "for epoch in range(training_epochs):\n",
        "  sess.run(train_step, feed_dict = {x_: XOR_X, y_: XOR_Y})\n",
        "  if (epoch + 1) % 10000 == 0:\n",
        "    c = sess.run(pred, feed_dict = {x_: XOR_X, y_: XOR_Y})\n",
        "    print(\"Epoch\", (epoch + 1), \":pred =\", c)\n",
        "print('Final prediction', sess.run(pred, feed_dict = {x_: XOR_X, y_: XOR_Y}))"
      ],
      "execution_count": 1,
      "outputs": [
        {
          "output_type": "display_data",
          "data": {
            "text/html": [
              "<p style=\"color: red;\">\n",
              "The default version of TensorFlow in Colab will soon switch to TensorFlow 2.x.<br>\n",
              "We recommend you <a href=\"https://www.tensorflow.org/guide/migrate\" target=\"_blank\">upgrade</a> now \n",
              "or ensure your notebook will continue to use TensorFlow 1.x via the <code>%tensorflow_version 1.x</code> magic:\n",
              "<a href=\"https://colab.research.google.com/notebooks/tensorflow_version.ipynb\" target=\"_blank\">more info</a>.</p>\n"
            ],
            "text/plain": [
              "<IPython.core.display.HTML object>"
            ]
          },
          "metadata": {
            "tags": []
          }
        },
        {
          "output_type": "stream",
          "text": [
            "Epoch 10000 :pred = [[0.49981338]\n",
            " [0.48154244]\n",
            " [0.5186745 ]\n",
            " [0.4962359 ]]\n",
            "Epoch 20000 :pred = [[0.49662188]\n",
            " [0.47009572]\n",
            " [0.53886384]\n",
            " [0.47606376]]\n",
            "Epoch 30000 :pred = [[0.39353716]\n",
            " [0.5560519 ]\n",
            " [0.6674563 ]\n",
            " [0.33635923]]\n",
            "Epoch 40000 :pred = [[0.1315766 ]\n",
            " [0.86984414]\n",
            " [0.8565139 ]\n",
            " [0.10841534]]\n",
            "Epoch 50000 :pred = [[0.06230021]\n",
            " [0.94098663]\n",
            " [0.9246239 ]\n",
            " [0.05178035]]\n",
            "Epoch 60000 :pred = [[0.0391622 ]\n",
            " [0.96342766]\n",
            " [0.95073557]\n",
            " [0.03273032]]\n",
            "Epoch 70000 :pred = [[0.02817764]\n",
            " [0.9738445 ]\n",
            " [0.9638426 ]\n",
            " [0.0236392 ]]\n",
            "Epoch 80000 :pred = [[0.02187557]\n",
            " [0.97975814]\n",
            " [0.97159   ]\n",
            " [0.01840424]]\n",
            "Epoch 90000 :pred = [[0.01781854]\n",
            " [0.98353934]\n",
            " [0.9766688 ]\n",
            " [0.01502495]]\n",
            "Epoch 100000 :pred = [[0.01500133]\n",
            " [0.98615175]\n",
            " [0.98023623]\n",
            " [0.01267317]]\n",
            "Final prediction [[0.01500133]\n",
            " [0.98615175]\n",
            " [0.98023623]\n",
            " [0.01267317]]\n"
          ],
          "name": "stdout"
        }
      ]
    }
  ]
}